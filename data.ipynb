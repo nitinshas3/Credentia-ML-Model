{
 "cells": [
  {
   "cell_type": "code",
   "execution_count": 134,
   "id": "36b42e1f",
   "metadata": {},
   "outputs": [
    {
     "name": "stdout",
     "output_type": "stream",
     "text": [
      "    Loan_ID Gender Married  Dependents     Education Self_Employed  ApplicantIncome  CoapplicantIncome  LoanAmount  Loan_Amount_Term  Credit_History Property_Area Loan_Status\n",
      "0  LP001002   Male      No         0.0      Graduate            No             5849                0.0         NaN             360.0             1.0         Urban           Y\n",
      "1  LP001003   Male     Yes         1.0      Graduate            No             4583             1508.0       128.0             360.0             1.0         Rural           N\n",
      "2  LP001005   Male     Yes         0.0      Graduate           Yes             3000                0.0        66.0             360.0             1.0         Urban           Y\n",
      "3  LP001006   Male     Yes         0.0  Not Graduate            No             2583             2358.0       120.0             360.0             1.0         Urban           Y\n",
      "4  LP001008   Male      No         0.0      Graduate            No             6000                0.0       141.0             360.0             1.0         Urban           Y\n"
     ]
    }
   ],
   "source": [
    "import pandas as pd\n",
    "import numpy as np\n",
    "df1 = pd.read_csv('LoanApprovalPrediction.csv')\n",
    "print(df1.head())\n"
   ]
  },
  {
   "cell_type": "code",
   "execution_count": 135,
   "id": "708ed7f6",
   "metadata": {},
   "outputs": [
    {
     "name": "stdout",
     "output_type": "stream",
     "text": [
      "598\n",
      "13\n"
     ]
    }
   ],
   "source": [
    "print(df1.shape[0])\n",
    "print(df1.shape[1])"
   ]
  },
  {
   "cell_type": "code",
   "execution_count": 136,
   "id": "726516a1",
   "metadata": {},
   "outputs": [
    {
     "name": "stdout",
     "output_type": "stream",
     "text": [
      "   person_age person_gender person_education  person_income  person_emp_exp person_home_ownership  loan_amnt loan_intent  loan_int_rate  loan_percent_income  cb_person_cred_hist_length  \\\n",
      "0        22.0        female           Master        71948.0               0                  RENT    35000.0    PERSONAL          16.02                 0.49                         3.0   \n",
      "1        21.0        female      High School        12282.0               0                   OWN     1000.0   EDUCATION          11.14                 0.08                         2.0   \n",
      "2        25.0        female      High School        12438.0               3              MORTGAGE     5500.0     MEDICAL          12.87                 0.44                         3.0   \n",
      "3        23.0        female         Bachelor        79753.0               0                  RENT    35000.0     MEDICAL          15.23                 0.44                         2.0   \n",
      "4        24.0          male           Master        66135.0               1                  RENT    35000.0     MEDICAL          14.27                 0.53                         4.0   \n",
      "\n",
      "   credit_score previous_loan_defaults_on_file  loan_status  \n",
      "0           561                             No            1  \n",
      "1           504                            Yes            0  \n",
      "2           635                             No            1  \n",
      "3           675                             No            1  \n",
      "4           586                             No            1  \n",
      "45000\n",
      "14\n"
     ]
    }
   ],
   "source": [
    "df2=pd.read_csv('loan_data.csv')\n",
    "print(df2.head())\n",
    "print(df2.shape[0])\n",
    "print(df2.shape[1])"
   ]
  },
  {
   "cell_type": "code",
   "execution_count": 137,
   "id": "1c42b5a5",
   "metadata": {},
   "outputs": [],
   "source": [
    "df3 = df2\n",
    "df3.drop(['person_age', 'person_gender','cb_person_cred_hist_length','person_home_ownership'], axis=1, inplace=True)"
   ]
  },
  {
   "cell_type": "code",
   "execution_count": 138,
   "id": "78004fbe",
   "metadata": {},
   "outputs": [
    {
     "name": "stdout",
     "output_type": "stream",
     "text": [
      "  person_education  person_income  person_emp_exp  loan_amnt loan_intent  loan_int_rate  loan_percent_income  credit_score previous_loan_defaults_on_file  loan_status\n",
      "0           Master        71948.0               0    35000.0    PERSONAL          16.02                 0.49           561                             No            1\n",
      "1      High School        12282.0               0     1000.0   EDUCATION          11.14                 0.08           504                            Yes            0\n",
      "2      High School        12438.0               3     5500.0     MEDICAL          12.87                 0.44           635                             No            1\n",
      "3         Bachelor        79753.0               0    35000.0     MEDICAL          15.23                 0.44           675                             No            1\n",
      "4           Master        66135.0               1    35000.0     MEDICAL          14.27                 0.53           586                             No            1\n"
     ]
    }
   ],
   "source": [
    "print(df3.head())"
   ]
  },
  {
   "cell_type": "code",
   "execution_count": 139,
   "id": "9e237a03",
   "metadata": {},
   "outputs": [
    {
     "name": "stdout",
     "output_type": "stream",
     "text": [
      "  person_education  person_income  loan_amnt  credit_score previous_loan_defaults_on_file  loan_status\n",
      "0           Master        71948.0    35000.0           561                             No            1\n",
      "1      High School        12282.0     1000.0           504                            Yes            0\n",
      "2      High School        12438.0     5500.0           635                             No            1\n",
      "3         Bachelor        79753.0    35000.0           675                             No            1\n",
      "4           Master        66135.0    35000.0           586                             No            1\n"
     ]
    }
   ],
   "source": [
    "df3.drop(['loan_percent_income', 'loan_int_rate','loan_intent','person_emp_exp'], axis=1, inplace=True)\n",
    "print(df3.head())"
   ]
  },
  {
   "cell_type": "code",
   "execution_count": 140,
   "id": "4ff34b39",
   "metadata": {},
   "outputs": [
    {
     "name": "stdout",
     "output_type": "stream",
     "text": [
      "  person_education  person_income  loan_amnt  credit_score previous_loan_defaults_on_file  loan_status university_tier\n",
      "0           Master        71948.0    35000.0           561                             No            1               3\n",
      "1      High School        12282.0     1000.0           504                            Yes            0               1\n",
      "2      High School        12438.0     5500.0           635                             No            1               1\n",
      "3         Bachelor        79753.0    35000.0           675                             No            1               3\n",
      "4           Master        66135.0    35000.0           586                             No            1               3\n",
      "      person_education  person_income  loan_amnt  credit_score previous_loan_defaults_on_file  loan_status university_tier\n",
      "44995        Associate        47971.0    15000.0           645                             No            1               1\n",
      "44996        Associate        65800.0     9000.0           621                             No            1               3\n",
      "44997        Associate        56942.0     2771.0           668                             No            1               3\n",
      "44998         Bachelor        33164.0    12000.0           604                             No            1               2\n",
      "44999      High School        51609.0     6665.0           628                             No            1               3\n"
     ]
    }
   ],
   "source": [
    "rows = df3.shape[0]\n",
    "def generate_tier(rows):\n",
    "    tiers=[]\n",
    "    for i in range(rows):\n",
    "        tier = np.random.choice(['1','2','3'], p=[0.3,0.4,0.3])\n",
    "        tiers.append(tier)\n",
    "    return tiers\n",
    "\n",
    "df3['university_tier'] = generate_tier(rows)\n",
    "print(df3.head())\n",
    "print(df3.tail())\n"
   ]
  },
  {
   "cell_type": "code",
   "execution_count": 141,
   "id": "c1bf8c75",
   "metadata": {},
   "outputs": [
    {
     "name": "stdout",
     "output_type": "stream",
     "text": [
      "  person_education  person_income  loan_amnt  credit_score previous_loan_defaults_on_file university_tier  cgpa\n",
      "0           Master        71948.0    35000.0           561                             No               3  6.97\n",
      "1      High School        12282.0     1000.0           504                            Yes               1  7.35\n",
      "2      High School        12438.0     5500.0           635                             No               1  7.56\n",
      "3         Bachelor        79753.0    35000.0           675                             No               3  7.01\n",
      "4           Master        66135.0    35000.0           586                             No               3  6.33\n",
      "      person_education  person_income  loan_amnt  credit_score previous_loan_defaults_on_file university_tier  cgpa\n",
      "44995        Associate        47971.0    15000.0           645                             No               1  6.65\n",
      "44996        Associate        65800.0     9000.0           621                             No               3  8.22\n",
      "44997        Associate        56942.0     2771.0           668                             No               3  7.80\n",
      "44998         Bachelor        33164.0    12000.0           604                             No               2  6.40\n",
      "44999      High School        51609.0     6665.0           628                             No               3  8.05\n",
      "Index(['person_education', 'person_income', 'loan_amnt', 'credit_score', 'previous_loan_defaults_on_file', 'university_tier', 'cgpa'], dtype='object')\n"
     ]
    }
   ],
   "source": [
    "def generate_cgpa(tiers):\n",
    "    gpas=[]\n",
    "    for tier in tiers:\n",
    "        if tier==1:\n",
    "            gpa = np.random.normal(7.8,0.6)\n",
    "        elif tier==2:\n",
    "            gpa = np.random.normal(7.5,0.9)\n",
    "        else  : \n",
    "            gpa = np.random.normal(6.8,0.4)      \n",
    "\n",
    "        random_gpa = np.random.uniform(6.0,10.0)    \n",
    "\n",
    "        gpa_final=0.5*gpa + 0.5*random_gpa\n",
    "        gpas.append(round(gpa_final,2))\n",
    "    return gpas    \n",
    "\n",
    "#df3.drop('person_education')\n",
    "tiers = generate_tier(rows)\n",
    "df3['cgpa'] = generate_cgpa(tiers)\n",
    "df3.drop('loan_status', axis=1, inplace=True)\n",
    "\n",
    "print(df3.head())\n",
    "print(df3.tail())\n",
    "print(df3.columns)\n"
   ]
  },
  {
   "cell_type": "code",
   "execution_count": 142,
   "id": "edba104a",
   "metadata": {},
   "outputs": [
    {
     "name": "stdout",
     "output_type": "stream",
     "text": [
      "  person_education  family_income  loan_amnt  credit_score any_active_loans university_tier  cgpa\n",
      "0           Master        71948.0    35000.0           561               No               3  6.97\n",
      "1      High School        12282.0     1000.0           504              Yes               1  7.35\n",
      "2      High School        12438.0     5500.0           635               No               1  7.56\n",
      "3         Bachelor        79753.0    35000.0           675               No               3  7.01\n",
      "4           Master        66135.0    35000.0           586               No               3  6.33\n"
     ]
    }
   ],
   "source": [
    "df3.rename(columns={'person_income': 'family_income','previous_loan_defaults_on_file':'any_active_loans'}, inplace=True)\n",
    "print(df3.head())"
   ]
  },
  {
   "cell_type": "code",
   "execution_count": 143,
   "id": "e49b38e6",
   "metadata": {},
   "outputs": [
    {
     "name": "stdout",
     "output_type": "stream",
     "text": [
      "      person_education  family_income  loan_amnt  credit_score any_active_loans university_tier  cgpa\n",
      "37979        Associate        96865.0     7500.0           601               No               3  8.02\n",
      "9911         Associate        56838.0     9000.0           647              Yes               1  8.04\n",
      "43386           Master        37298.0     5000.0           711               No               2  8.09\n",
      "13822         Bachelor        39944.0     5000.0           597              Yes               2  8.40\n",
      "44810      High School        67974.0    10000.0           586               No               2  6.96\n",
      "...                ...            ...        ...           ...              ...             ...   ...\n",
      "6316         Associate        43178.0     6000.0           658              Yes               1  7.46\n",
      "24189         Bachelor        55272.0    10000.0           662               No               3  6.24\n",
      "26596         Bachelor       129544.0     2500.0           669               No               2  6.17\n",
      "43366        Associate       108001.0    28869.0           602               No               3  6.80\n",
      "13847        Associate       116992.0    14000.0           655              Yes               2  6.96\n",
      "\n",
      "[100 rows x 7 columns]\n"
     ]
    }
   ],
   "source": [
    "print(df3.sample(n=100,random_state=42))"
   ]
  },
  {
   "cell_type": "code",
   "execution_count": 144,
   "id": "621b9ffa",
   "metadata": {},
   "outputs": [
    {
     "name": "stdout",
     "output_type": "stream",
     "text": [
      "       loan_amnt  credit_score any_active_loans university_tier  cgpa  income_indian\n",
      "37979     7500.0           601               No               3  8.02         172856\n",
      "9911      9000.0           647              Yes               1  8.04         162561\n",
      "43386     5000.0           711               No               2  8.09         157535\n",
      "13822     5000.0           597              Yes               2  8.40         158216\n",
      "44810    10000.0           586               No               2  6.96         165425\n",
      "...          ...           ...              ...             ...   ...            ...\n",
      "6316      6000.0           658              Yes               1  7.46         159047\n",
      "24189    10000.0           662               No               3  6.24         162158\n",
      "26596     2500.0           669               No               2  6.17         181261\n",
      "43366    28869.0           602               No               3  6.80         175720\n",
      "13847    14000.0           655              Yes               2  6.96         178033\n",
      "\n",
      "[100 rows x 6 columns]\n"
     ]
    }
   ],
   "source": [
    "def convert_to_indian(df, column='family_income'):\n",
    "    IND_MIN, IND_MAX = 150000, 2000000\n",
    "\n",
    "    old_min = df[column].min()\n",
    "    old_max = df[column].max()\n",
    "\n",
    "    # Apply scaling formula vectorized\n",
    "    df['income_indian'] = ((df[column] - old_min) / (old_max - old_min)) * (IND_MAX - IND_MIN) + IND_MIN\n",
    "    df['income_indian'] = df['income_indian'].astype(int)\n",
    "\n",
    "    return df\n",
    "df3 = convert_to_indian(df3)\n",
    "#print(df3.head())\n",
    "df3.drop(['person_education','family_income'], axis=1, inplace=True)\n",
    "print(df3.sample(n=100,random_state=42))"
   ]
  },
  {
   "cell_type": "code",
   "execution_count": 145,
   "id": "a0baf62e",
   "metadata": {},
   "outputs": [
    {
     "name": "stdout",
     "output_type": "stream",
     "text": [
      "       loan_amnt  credit_score any_active_loans university_tier  cgpa  income_indian\n",
      "37979     7500.0           601               No               3  8.02         172900\n",
      "9911      9000.0           647              Yes               1  8.04         162600\n",
      "43386     5000.0           711               No               2  8.09         157500\n",
      "13822     5000.0           597              Yes               2  8.40         158200\n",
      "44810    10000.0           586               No               2  6.96         165400\n",
      "...          ...           ...              ...             ...   ...            ...\n",
      "6316      6000.0           658              Yes               1  7.46         159000\n",
      "24189    10000.0           662               No               3  6.24         162200\n",
      "26596     2500.0           669               No               2  6.17         181300\n",
      "43366    28869.0           602               No               3  6.80         175700\n",
      "13847    14000.0           655              Yes               2  6.96         178000\n",
      "\n",
      "[100 rows x 6 columns]\n"
     ]
    }
   ],
   "source": [
    "df3['income_indian'] = df3['income_indian'].round(-2)\n",
    "print(df3.sample(n=100,random_state=42))"
   ]
  },
  {
   "cell_type": "code",
   "execution_count": 146,
   "id": "8605c183",
   "metadata": {},
   "outputs": [
    {
     "data": {
      "text/plain": [
       "\"def convert_loan_req_to_indian(loans):\\n    final_loan = []\\n    INR_min = 300000\\n    INR_max = 2000000\\n    min_usd = loans.min()\\n    max_usd = loans.max()\\n    for loan in loans:\\n        final = INR_min + ((loan - min_usd) * (INR_max - INR_min) / (max_usd - min_usd))\\n        final_loan.append(final)\\n    return final_loan\\n\\ndf3['loan_amnt'] = convert_loan_req_to_indian(df3['loan_amnt'])\\n\""
      ]
     },
     "execution_count": 146,
     "metadata": {},
     "output_type": "execute_result"
    }
   ],
   "source": [
    "'''def convert_loan_req_to_indian(loans):\n",
    "    final_loan = []\n",
    "    INR_min = 300000\n",
    "    INR_max = 2000000\n",
    "    min_usd = loans.min()\n",
    "    max_usd = loans.max()\n",
    "    for loan in loans:\n",
    "        final = INR_min + ((loan - min_usd) * (INR_max - INR_min) / (max_usd - min_usd))\n",
    "        final_loan.append(final)\n",
    "    return final_loan\n",
    "\n",
    "df3['loan_amnt'] = convert_loan_req_to_indian(df3['loan_amnt'])\n",
    "'''# this is slower "
   ]
  },
  {
   "cell_type": "code",
   "execution_count": 147,
   "id": "f2f1eda2",
   "metadata": {},
   "outputs": [
    {
     "data": {
      "text/plain": [
       "\"INR_min = 300000\\nINR_max = 2000000\\nmin_usd = df3['loan_amnt'].min()\\nmax_usd = df3['loan_amnt'].max()\\n\\ndf3['loan_amnt'] = INR_min + ((df3['loan_amnt'] - min_usd) * (INR_max - INR_min) / (max_usd - min_usd))\\n#faster vectorized version without looping\\nprint(df3.head())\""
      ]
     },
     "execution_count": 147,
     "metadata": {},
     "output_type": "execute_result"
    }
   ],
   "source": [
    "'''INR_min = 300000\n",
    "INR_max = 2000000\n",
    "min_usd = df3['loan_amnt'].min()\n",
    "max_usd = df3['loan_amnt'].max()\n",
    "\n",
    "df3['loan_amnt'] = INR_min + ((df3['loan_amnt'] - min_usd) * (INR_max - INR_min) / (max_usd - min_usd))\n",
    "#faster vectorized version without looping\n",
    "print(df3.head())'''"
   ]
  },
  {
   "cell_type": "code",
   "execution_count": 148,
   "id": "c3d0debf",
   "metadata": {},
   "outputs": [
    {
     "name": "stdout",
     "output_type": "stream",
     "text": [
      "       loan_amnt  credit_score any_active_loans university_tier  cgpa  income_indian  loan_indian\n",
      "0        35000.0           561               No               3  6.97         166400    1996000.0\n",
      "1         1000.0           504              Yes               1  7.35         151100     308000.0\n",
      "2         5500.0           635               No               1  7.56         151100     819000.0\n",
      "3        35000.0           675               No               3  7.01         168500    1996000.0\n",
      "4        35000.0           586               No               3  6.33         165000    1996000.0\n",
      "...          ...           ...              ...             ...   ...            ...          ...\n",
      "44995    15000.0           645               No               1  6.65         160300    1703000.0\n",
      "44996     9000.0           621               No               3  8.22         164900    1233000.0\n",
      "44997     2771.0           668               No               3  7.80         162600     445000.0\n",
      "44998    12000.0           604               No               2  6.40         156500    1526000.0\n",
      "44999     6665.0           628               No               3  8.05         161200     982000.0\n",
      "\n",
      "[45000 rows x 7 columns]\n"
     ]
    }
   ],
   "source": [
    "# Define Indian-style loan ranges\n",
    "INR_min = 300000    # 3 lakh\n",
    "INR_max = 2000000   # 20 lakh\n",
    "\n",
    "# Compute percentiles of USD loans\n",
    "usd_percentiles = df3['loan_amnt'].rank(pct=True)  # gives 0–1 scale\n",
    "\n",
    "# Map to INR range\n",
    "df3['loan_indian'] = INR_min + usd_percentiles * (INR_max - INR_min)\n",
    "\n",
    "# Round to nearest 1000 for realism\n",
    "df3['loan_indian'] = df3['loan_indian'].round(-3)\n",
    "\n",
    "print(df3)"
   ]
  },
  {
   "cell_type": "code",
   "execution_count": 149,
   "id": "b96bd46a",
   "metadata": {},
   "outputs": [],
   "source": [
    "# Function to generate repayment period\n",
    "def generate_repayment_period(loan_amount):\n",
    "    if loan_amount <= 500000:\n",
    "        return np.random.randint(3, 5)  # 3–4 years\n",
    "    elif loan_amount <= 1000000:\n",
    "        return np.random.randint(4, 6)  # 4–5 years\n",
    "    elif loan_amount <= 1500000:\n",
    "        return np.random.randint(5, 7)  # 5–6 years\n",
    "    else:\n",
    "        return np.random.randint(6, 8)  # 6–7 years\n",
    "\n",
    "# Apply to dataset\n",
    "df3['repayment_period'] = df3['loan_indian'].apply(generate_repayment_period)\n",
    "\n"
   ]
  },
  {
   "cell_type": "code",
   "execution_count": 150,
   "id": "2356848c",
   "metadata": {},
   "outputs": [
    {
     "name": "stdout",
     "output_type": "stream",
     "text": [
      "   loan_amnt  credit_score any_active_loans university_tier  cgpa  income_indian  loan_indian  repayment_period collateral_available\n",
      "0    35000.0           561               No               3  6.97         166400    1996000.0                 7                   No\n",
      "1     1000.0           504              Yes               1  7.35         151100     308000.0                 4                   No\n",
      "2     5500.0           635               No               1  7.56         151100     819000.0                 4                   No\n",
      "3    35000.0           675               No               3  7.01         168500    1996000.0                 6                   No\n",
      "4    35000.0           586               No               3  6.33         165000    1996000.0                 6                   No\n"
     ]
    }
   ],
   "source": [
    "\n",
    "\n",
    "def collateral_by_income(income):\n",
    "    if income <= 150000:\n",
    "        return np.random.choice(['No', 'Yes'], p=[0.9, 0.1])\n",
    "    elif income <= 250000:\n",
    "        return np.random.choice(['No', 'Yes'], p=[0.7, 0.3])\n",
    "    elif income <= 400000:\n",
    "        return np.random.choice(['No', 'Yes'], p=[0.4, 0.6])\n",
    "    else:\n",
    "        return np.random.choice(['No', 'Yes'], p=[0.1, 0.9])\n",
    "\n",
    "df3['collateral_available'] = df3['income_indian'].apply(collateral_by_income)\n",
    "print(df3.head())\n"
   ]
  },
  {
   "cell_type": "code",
   "execution_count": 151,
   "id": "c2763690",
   "metadata": {},
   "outputs": [],
   "source": [
    "df3.to_csv(\"studentdata.csv\",index=False)"
   ]
  },
  {
   "cell_type": "code",
   "execution_count": 152,
   "id": "43f8b3e5",
   "metadata": {},
   "outputs": [
    {
     "name": "stdout",
     "output_type": "stream",
     "text": [
      "   credit_score any_active_loans university_tier  cgpa  family_income   loan_amt  repayment_period collateral_available\n",
      "0           561               No               3  6.97         166400  1996000.0                 7                   No\n",
      "1           504              Yes               1  7.35         151100   308000.0                 4                   No\n",
      "2           635               No               1  7.56         151100   819000.0                 4                   No\n",
      "3           675               No               3  7.01         168500  1996000.0                 6                   No\n",
      "4           586               No               3  6.33         165000  1996000.0                 6                   No\n"
     ]
    }
   ],
   "source": [
    "df3.drop(\"loan_amnt\", axis=1, inplace=True)  # Add inplace=True here\n",
    "df3.rename(columns={'loan_indian': 'loan_amt'}, inplace=True)\n",
    "df3.rename(columns={'income_indian': 'family_income'}, inplace=True)\n",
    "\n",
    "print(df3.head())\n",
    "df3.to_csv(\"studentdata.csv\",index=False)"
   ]
  },
  {
   "cell_type": "code",
   "execution_count": 153,
   "id": "1c770526",
   "metadata": {},
   "outputs": [
    {
     "name": "stdout",
     "output_type": "stream",
     "text": [
      "  Bank_Name                   Product_Name  Interest_Rate  Max_Loan_Domestic  Max_Loan_Abroad Repayment_Period       Collateral Processing_Fee College_Tier_Eligibility\n",
      "0       SBI            Scholar Loan Scheme          10.55            1000000          2000000         15 years  Required > 7.5L           5000              Tier 1 only\n",
      "1       SBI  Scholar Loan Scheme Variant 1          10.75            1050000          2100000         15 years  Required > 7.5L            Nil              Tier 1 only\n",
      "2       SBI  Scholar Loan Scheme Variant 2          10.95            1100000          2200000         15 years  Required > 7.5L           5000              Tier 1 only\n",
      "3       SBI  Scholar Loan Scheme Variant 3          11.15            1150000          2300000         15 years  Required > 7.5L            Nil              Tier 1 only\n",
      "4       PNB        Pratibha Education Loan          10.80            1000000          2000000         15 years  Required > 7.5L            Nil              Tier 1 only\n"
     ]
    }
   ],
   "source": [
    "df4 = pd.read_excel('loanproducts.xlsx')\n",
    "df4.drop('Concessions',axis=1,inplace=True)\n",
    "print(df4.head())"
   ]
  },
  {
   "cell_type": "code",
   "execution_count": 154,
   "id": "923d5989",
   "metadata": {},
   "outputs": [
    {
     "name": "stdout",
     "output_type": "stream",
     "text": [
      "  Bank_Name                   Product_Name  Interest_Rate  Max_Loan_Domestic  Max_Loan_Abroad  Repayment_Period       Collateral Processing_Fee College_Tier_Eligibility\n",
      "0       SBI            Scholar Loan Scheme          10.55            1000000          2000000                15  Required > 7.5L           5000                        1\n",
      "1       SBI  Scholar Loan Scheme Variant 1          10.75            1050000          2100000                15  Required > 7.5L            Nil                        1\n",
      "2       SBI  Scholar Loan Scheme Variant 2          10.95            1100000          2200000                15  Required > 7.5L           5000                        1\n",
      "3       SBI  Scholar Loan Scheme Variant 3          11.15            1150000          2300000                15  Required > 7.5L            Nil                        1\n",
      "4       PNB        Pratibha Education Loan          10.80            1000000          2000000                15  Required > 7.5L            Nil                        1\n"
     ]
    }
   ],
   "source": [
    "\n",
    "# ✅ Convert 'College_Tier_Eligibility' to numeric tier\n",
    "df4['College_Tier_Eligibility'] = df4['College_Tier_Eligibility'].str.extract(r'Tier (\\d)')\n",
    "\n",
    "# ✅ Remove 'years' from 'Repayment_Period' and convert to int\n",
    "df4['Repayment_Period'] = df4['Repayment_Period'].str.replace(' years', '', regex=False).astype(int)\n",
    "\n",
    "\n",
    "print(df4.head())\n",
    "\n"
   ]
  },
  {
   "cell_type": "code",
   "execution_count": 155,
   "id": "27ec0720",
   "metadata": {},
   "outputs": [],
   "source": [
    "\n",
    "df5 = pd.read_excel('finalloanproducts.xlsx')\n",
    "\n"
   ]
  },
  {
   "cell_type": "code",
   "execution_count": 156,
   "id": "2916d995",
   "metadata": {},
   "outputs": [
    {
     "name": "stdout",
     "output_type": "stream",
     "text": [
      "    credit_score any_active_loans university_tier  cgpa  family_income   loan_amt  repayment_period collateral_available  Unnamed: 0   Bank_Name                        Product_Name  Interest_Rate  \\\n",
      "0            561               No               3  6.97         166400  1996000.0                 7                   No           0         SBI                 Scholar Loan Scheme          10.55   \n",
      "1            561               No               3  6.97         166400  1996000.0                 7                   No           1         SBI       Scholar Loan Scheme Variant 1          10.75   \n",
      "2            561               No               3  6.97         166400  1996000.0                 7                   No           2         SBI       Scholar Loan Scheme Variant 2          10.95   \n",
      "3            561               No               3  6.97         166400  1996000.0                 7                   No           3         SBI       Scholar Loan Scheme Variant 3          11.15   \n",
      "4            561               No               3  6.97         166400  1996000.0                 7                   No           4         PNB             Pratibha Education Loan          10.80   \n",
      "5            561               No               3  6.97         166400  1996000.0                 7                   No           5         PNB   Pratibha Education Loan Variant 1          11.00   \n",
      "6            561               No               3  6.97         166400  1996000.0                 7                   No           6         PNB   Pratibha Education Loan Variant 2          11.20   \n",
      "7            561               No               3  6.97         166400  1996000.0                 7                   No           7         PNB   Pratibha Education Loan Variant 3          11.40   \n",
      "8            561               No               3  6.97         166400  1996000.0                 7                   No           8   Axis Bank            Education Advantage Loan          15.50   \n",
      "9            561               No               3  6.97         166400  1996000.0                 7                   No           9   Axis Bank  Education Advantage Loan Variant 1          15.70   \n",
      "10           561               No               3  6.97         166400  1996000.0                 7                   No          10   Axis Bank  Education Advantage Loan Variant 2          15.90   \n",
      "11           561               No               3  6.97         166400  1996000.0                 7                   No          11   Axis Bank  Education Advantage Loan Variant 3          16.10   \n",
      "12           561               No               3  6.97         166400  1996000.0                 7                   No          12        HDFC                      Education Plus          12.10   \n",
      "13           561               No               3  6.97         166400  1996000.0                 7                   No          13        HDFC            Education Plus Variant 1          12.30   \n",
      "14           561               No               3  6.97         166400  1996000.0                 7                   No          14        HDFC            Education Plus Variant 2          12.50   \n",
      "15           561               No               3  6.97         166400  1996000.0                 7                   No          15        HDFC            Education Plus Variant 3          12.70   \n",
      "16           561               No               3  6.97         166400  1996000.0                 7                   No          16  ICICI Bank                     Global Edu Loan          11.25   \n",
      "17           561               No               3  6.97         166400  1996000.0                 7                   No          17  ICICI Bank           Global Edu Loan Variant 1          11.45   \n",
      "18           561               No               3  6.97         166400  1996000.0                 7                   No          18  ICICI Bank           Global Edu Loan Variant 2          11.65   \n",
      "19           561               No               3  6.97         166400  1996000.0                 7                   No          19  ICICI Bank           Global Edu Loan Variant 3          11.85   \n",
      "\n",
      "    Max_Loan_Domestic  Repayment_Period           Collateral  Processing_Fee  College_Tier_Eligibility  Collateral_Required  Collateral_Available  Collateral_OK  \n",
      "0             1000000                15      Required > 7.5L            5000                         1                    1                     0              0  \n",
      "1             1050000                15      Required > 7.5L               0                         1                    1                     0              0  \n",
      "2             1100000                15      Required > 7.5L            5000                         1                    1                     0              0  \n",
      "3             1150000                15      Required > 7.5L               0                         1                    1                     0              0  \n",
      "4             1000000                15      Required > 7.5L               0                         1                    1                     0              0  \n",
      "5             1050000                15      Required > 7.5L               0                         1                    1                     0              0  \n",
      "6             1100000                15      Required > 7.5L               0                         1                    1                     0              0  \n",
      "7             1150000                15      Required > 7.5L               0                         1                    1                     0              0  \n",
      "8             1000000                15  Tangible collateral            5000                         3                    1                     0              0  \n",
      "9             1050000                15  Tangible collateral               0                         3                    1                     0              0  \n",
      "10            1100000                15  Tangible collateral            6000                         3                    1                     0              0  \n",
      "11            1150000                15  Tangible collateral               0                         3                    1                     0              0  \n",
      "12            1000000                15        Required > 4L               0                         3                    1                     0              0  \n",
      "13            1050000                15        Required > 4L               0                         3                    1                     0              0  \n",
      "14            1100000                15        Required > 4L               0                         3                    1                     0              0  \n",
      "15            1150000                15        Required > 4L               0                         3                    1                     0              0  \n",
      "16            2000000                10      Required > 7.5L               0                         1                    1                     0              0  \n",
      "17            2050000                10      Required > 7.5L               0                         1                    1                     0              0  \n",
      "18            2100000                10      Required > 7.5L               0                         1                    1                     0              0  \n",
      "19            2150000                10      Required > 7.5L               0                         1                    1                     0              0  \n",
      "Total rows: 1800000\n"
     ]
    }
   ],
   "source": [
    "import numpy as np\n",
    "import pandas as pd\n",
    "\n",
    "# --------------------------\n",
    "# 1. Drop Abroad Loan column from df5\n",
    "# --------------------------\n",
    "df5 = df5.drop(columns=[\"Max_Loan_Abroad\"], errors=\"ignore\")\n",
    "\n",
    "# --------------------------\n",
    "# 2. Collateral rule function\n",
    "# --------------------------\n",
    "def collateral_required(rule, loan_amount):\n",
    "    \"\"\"Return 1 if collateral is required for this loan amount and rule, else 0.\"\"\"\n",
    "    if pd.isna(rule):\n",
    "        return 0\n",
    "    \n",
    "    rule = str(rule).lower()\n",
    "    loan_in_lakhs = loan_amount / 100000  # convert absolute Rs. to lakhs\n",
    "    \n",
    "    if \"optional\" in rule:\n",
    "        return 0\n",
    "    elif \"tangible\" in rule or \"parent\" in rule:\n",
    "        return 1\n",
    "    elif \"> 7.5\" in rule:\n",
    "        return 1 if loan_in_lakhs > 7.5 else 0\n",
    "    elif \"> 4\" in rule:\n",
    "        return 1 if loan_in_lakhs > 4 else 0\n",
    "    else:\n",
    "        return 1  # fallback\n",
    "\n",
    "# --------------------------\n",
    "# 3. Cross join df3 (students) × df5 (loan products)\n",
    "# --------------------------\n",
    "df3[\"key\"] = 1\n",
    "df5[\"key\"] = 1\n",
    "df = df3.merge(df5, on=\"key\").drop(\"key\", axis=1)\n",
    "\n",
    "# --------------------------\n",
    "# 4. Apply collateral logic\n",
    "# --------------------------\n",
    "df[\"Collateral_Required\"] = df.apply(\n",
    "    lambda row: collateral_required(row[\"Collateral\"], row[\"loan_amt\"]), axis=1\n",
    ")\n",
    "\n",
    "# Use student's collateral availability column\n",
    "df[\"Collateral_Available\"] = df[\"collateral_available\"].map({\"Yes\": 1, \"No\": 0})\n",
    "\n",
    "# Final check if collateral condition is satisfied\n",
    "df[\"Collateral_OK\"] = np.where(\n",
    "    (df[\"Collateral_Required\"] == 0) | (df[\"Collateral_Available\"] == 1), 1, 0\n",
    ")\n",
    "\n",
    "# --------------------------\n",
    "# 5. Final merged dataset\n",
    "# --------------------------\n",
    "print(df.head(20))\n",
    "print(\"Total rows:\", len(df))\n"
   ]
  },
  {
   "cell_type": "code",
   "execution_count": 157,
   "id": "3bc8d191",
   "metadata": {},
   "outputs": [
    {
     "name": "stdout",
     "output_type": "stream",
     "text": [
      "1800000\n",
      "         credit_score any_active_loans university_tier  cgpa  family_income   loan_amt  repayment_period collateral_available  Unnamed: 0    Bank_Name                       Product_Name  \\\n",
      "1623083           570              Yes               1  6.53         159000   743000.0                 4                   No           3          SBI      Scholar Loan Scheme Variant 3   \n",
      "1663132           705               No               3  8.12         172900  1233000.0                 5                   No          12         HDFC                     Education Plus   \n",
      "114717            626              Yes               3  6.84         159000  1355000.0                 6                  Yes          37  Indian Bank               Vidya Loan Variant 1   \n",
      "681996            663               No               2  8.17         157400  1600000.0                 6                   No          36  Indian Bank                         Vidya Loan   \n",
      "472123            626               No               2  6.60         174400  1355000.0                 5                   No           3          SBI      Scholar Loan Scheme Variant 3   \n",
      "...               ...              ...             ...   ...            ...        ...               ...                  ...         ...          ...                                ...   \n",
      "1497549           616              Yes               3  7.16         216500  1579000.0                 7                   No          29   Union Bank     Union Education Loan Variant 1   \n",
      "49883             700              Yes               2  7.91         156100  1211000.0                 6                   No           3          SBI      Scholar Loan Scheme Variant 3   \n",
      "185276            671               No               2  7.30         191500  1355000.0                 6                   No          36  Indian Bank                         Vidya Loan   \n",
      "1535767           607              Yes               2  6.75         168900  1526000.0                 7                   No           7          PNB  Pratibha Education Loan Variant 3   \n",
      "350390            594              Yes               2  6.83         166700  1703000.0                 7                   No          30   Union Bank     Union Education Loan Variant 2   \n",
      "\n",
      "         Interest_Rate  Max_Loan_Domestic  Repayment_Period         Collateral  Processing_Fee  College_Tier_Eligibility  Collateral_Required  Collateral_Available  Collateral_OK  \n",
      "1623083          11.15            1150000                15    Required > 7.5L               0                         1                    0                     0              1  \n",
      "1663132          12.10            1000000                15      Required > 4L               0                         3                    1                     0              0  \n",
      "114717           10.20            1050000                15  Collateral > 7.5L               0                         3                    1                     1              1  \n",
      "681996           10.00            1000000                15  Collateral > 7.5L               0                         3                    1                     0              0  \n",
      "472123           11.15            1150000                15    Required > 7.5L               0                         1                    1                     0              0  \n",
      "...                ...                ...               ...                ...             ...                       ...                  ...                   ...            ...  \n",
      "1497549          10.40            1050000                15  Collateral > 7.5L               0                         1                    1                     0              0  \n",
      "49883            11.15            1150000                15    Required > 7.5L               0                         1                    1                     0              0  \n",
      "185276           10.00            1000000                15  Collateral > 7.5L               0                         3                    1                     0              0  \n",
      "1535767          11.40            1150000                15    Required > 7.5L               0                         1                    1                     0              0  \n",
      "350390           10.60            1100000                15  Collateral > 7.5L               0                         1                    1                     0              0  \n",
      "\n",
      "[100 rows x 20 columns]\n"
     ]
    }
   ],
   "source": [
    "print(df.shape[0])\n",
    "\n",
    "print(df.sample(n=100, random_state=42))"
   ]
  },
  {
   "cell_type": "code",
   "execution_count": null,
   "id": "659b2e28",
   "metadata": {},
   "outputs": [],
   "source": []
  },
  {
   "cell_type": "code",
   "execution_count": 158,
   "id": "2786e01c",
   "metadata": {},
   "outputs": [
    {
     "name": "stdout",
     "output_type": "stream",
     "text": [
      "   Unnamed: 0.1  credit_score any_active_loans  university_tier  cgpa  family_income   loan_amt  repayment_period collateral_available  Unnamed: 0 Bank_Name                   Product_Name  \\\n",
      "0             0           561               No                1  7.57         166400  1996000.0                 7                  Yes           0       SBI            Scholar Loan Scheme   \n",
      "1             1           561               No                1  7.57         166400  1996000.0                 7                  Yes           1       SBI  Scholar Loan Scheme Variant 1   \n",
      "2             2           561               No                1  7.57         166400  1996000.0                 7                  Yes           2       SBI  Scholar Loan Scheme Variant 2   \n",
      "3             3           561               No                1  7.57         166400  1996000.0                 7                  Yes           3       SBI  Scholar Loan Scheme Variant 3   \n",
      "4             4           561               No                1  7.57         166400  1996000.0                 7                  Yes           4       PNB        Pratibha Education Loan   \n",
      "\n",
      "   Interest_Rate  Max_Loan_Domestic  Repayment_Period       Collateral  Processing_Fee  College_Tier_Eligibility  Collateral_Required  Collateral_Available  Collateral_OK  \n",
      "0          10.55            1000000                15  Required > 7.5L            5000                         1                    1                     1              1  \n",
      "1          10.75            1050000                15  Required > 7.5L               0                         1                    1                     1              1  \n",
      "2          10.95            1100000                15  Required > 7.5L            5000                         1                    1                     1              1  \n",
      "3          11.15            1150000                15  Required > 7.5L               0                         1                    1                     1              1  \n",
      "4          10.80            1000000                15  Required > 7.5L               0                         1                    1                     1              1  \n",
      "Index(['Unnamed: 0.1', 'credit_score', 'any_active_loans', 'university_tier', 'cgpa', 'family_income', 'loan_amt', 'repayment_period', 'collateral_available', 'Unnamed: 0', 'Bank_Name',\n",
      "       'Product_Name', 'Interest_Rate', 'Max_Loan_Domestic', 'Repayment_Period', 'Collateral', 'Processing_Fee', 'College_Tier_Eligibility', 'Collateral_Required', 'Collateral_Available',\n",
      "       'Collateral_OK'],\n",
      "      dtype='object')\n"
     ]
    }
   ],
   "source": [
    "dfinal = pd.read_csv('final1.csv')\n",
    "print(dfinal.head())\n",
    "print(dfinal.columns)"
   ]
  },
  {
   "cell_type": "code",
   "execution_count": 159,
   "id": "a31d23c3",
   "metadata": {},
   "outputs": [
    {
     "name": "stdout",
     "output_type": "stream",
     "text": [
      "   Unnamed: 0.1  credit_score any_active_loans  university_tier  cgpa  family_income   loan_amt  repayment_period collateral_available  Bank_Name                        Product_Name  Interest_Rate  Max_Loan_Domestic  Repayment_Period           Collateral  Processing_Fee  College_Tier_Eligibility\n",
      "0             0           561               No                1  7.57         166400  1996000.0                 7                  Yes        SBI                 Scholar Loan Scheme          10.55            1000000                15      Required > 7.5L            5000                         1\n",
      "1             1           561               No                1  7.57         166400  1996000.0                 7                  Yes        SBI       Scholar Loan Scheme Variant 1          10.75            1050000                15      Required > 7.5L               0                         1\n",
      "2             2           561               No                1  7.57         166400  1996000.0                 7                  Yes        SBI       Scholar Loan Scheme Variant 2          10.95            1100000                15      Required > 7.5L            5000                         1\n",
      "3             3           561               No                1  7.57         166400  1996000.0                 7                  Yes        SBI       Scholar Loan Scheme Variant 3          11.15            1150000                15      Required > 7.5L               0                         1\n",
      "4             4           561               No                1  7.57         166400  1996000.0                 7                  Yes        PNB             Pratibha Education Loan          10.80            1000000                15      Required > 7.5L               0                         1\n",
      "5             5           561               No                1  7.57         166400  1996000.0                 7                  Yes        PNB   Pratibha Education Loan Variant 1          11.00            1050000                15      Required > 7.5L               0                         1\n",
      "6             6           561               No                1  7.57         166400  1996000.0                 7                  Yes        PNB   Pratibha Education Loan Variant 2          11.20            1100000                15      Required > 7.5L               0                         1\n",
      "7             7           561               No                1  7.57         166400  1996000.0                 7                  Yes        PNB   Pratibha Education Loan Variant 3          11.40            1150000                15      Required > 7.5L               0                         1\n",
      "8             8           561               No                1  7.57         166400  1996000.0                 7                  Yes  Axis Bank            Education Advantage Loan          15.50            1000000                15  Tangible collateral            5000                         3\n",
      "9             9           561               No                1  7.57         166400  1996000.0                 7                  Yes  Axis Bank  Education Advantage Loan Variant 1          15.70            1050000                15  Tangible collateral               0                         3\n"
     ]
    }
   ],
   "source": [
    "dfinal = dfinal.iloc[:, :-3]  # Drops last 3 columns\n",
    "dfinal = dfinal.drop(columns=['Unnamed: 0'])  # Then drop the middle unnamed column\n",
    "pd.set_option('display.max_columns', None)     # Show all columns\n",
    "pd.set_option('display.width', 200)            # Adjust width to fit your terminal\n",
    "pd.set_option('display.max_colwidth', None)    # Show full column content\n",
    "\n",
    "# Print top 10 rows neatly\n",
    "print(dfinal.head(10).to_string())\n"
   ]
  },
  {
   "cell_type": "code",
   "execution_count": 160,
   "id": "6137d369",
   "metadata": {},
   "outputs": [
    {
     "name": "stdout",
     "output_type": "stream",
     "text": [
      "   Unnamed: 0.1  credit_score  any_active_loans  university_tier  cgpa  family_income   loan_amt  repayment_period  collateral_available  Bank_Name                        Product_Name  Interest_Rate  Max_Loan_Domestic  Repayment_Period           Collateral  Processing_Fee  College_Tier_Eligibility  collateral_threshold  Collateral_Required  Collateral_OK\n",
      "0             0           561                 0                1  7.57         166400  1996000.0                 7                     1        SBI                 Scholar Loan Scheme          10.55            1000000                15      Required > 7.5L            5000                         1              750000.0                    1              1\n",
      "1             1           561                 0                1  7.57         166400  1996000.0                 7                     1        SBI       Scholar Loan Scheme Variant 1          10.75            1050000                15      Required > 7.5L               0                         1              750000.0                    1              1\n",
      "2             2           561                 0                1  7.57         166400  1996000.0                 7                     1        SBI       Scholar Loan Scheme Variant 2          10.95            1100000                15      Required > 7.5L            5000                         1              750000.0                    1              1\n",
      "3             3           561                 0                1  7.57         166400  1996000.0                 7                     1        SBI       Scholar Loan Scheme Variant 3          11.15            1150000                15      Required > 7.5L               0                         1              750000.0                    1              1\n",
      "4             4           561                 0                1  7.57         166400  1996000.0                 7                     1        PNB             Pratibha Education Loan          10.80            1000000                15      Required > 7.5L               0                         1              750000.0                    1              1\n",
      "5             5           561                 0                1  7.57         166400  1996000.0                 7                     1        PNB   Pratibha Education Loan Variant 1          11.00            1050000                15      Required > 7.5L               0                         1              750000.0                    1              1\n",
      "6             6           561                 0                1  7.57         166400  1996000.0                 7                     1        PNB   Pratibha Education Loan Variant 2          11.20            1100000                15      Required > 7.5L               0                         1              750000.0                    1              1\n",
      "7             7           561                 0                1  7.57         166400  1996000.0                 7                     1        PNB   Pratibha Education Loan Variant 3          11.40            1150000                15      Required > 7.5L               0                         1              750000.0                    1              1\n",
      "8             8           561                 0                1  7.57         166400  1996000.0                 7                     1  Axis Bank            Education Advantage Loan          15.50            1000000                15  Tangible collateral            5000                         3                   1.0                    1              1\n",
      "9             9           561                 0                1  7.57         166400  1996000.0                 7                     1  Axis Bank  Education Advantage Loan Variant 1          15.70            1050000                15  Tangible collateral               0                         3                   1.0                    1              1\n"
     ]
    }
   ],
   "source": [
    "# 1. Convert Yes/No → 1/0\n",
    "dfinal['any_active_loans'] = dfinal['any_active_loans'].map({'Yes': 1, 'No': 0})\n",
    "dfinal['collateral_available'] = dfinal['collateral_available'].map({'Yes': 1, 'No': 0})\n",
    "\n",
    "# 2. Collateral Required Check\n",
    "def parse_collateral(text):\n",
    "    \"\"\"Extracts threshold from collateral column.\"\"\"\n",
    "    text = str(text).lower()\n",
    "    if \"not required\" in text:\n",
    "        return 0\n",
    "    elif \"optional\" in text:\n",
    "        return 0\n",
    "    elif \"tangible\" in text:   # e.g. \"Tangible collateral\"\n",
    "        return 1\n",
    "    elif \"required\" in text and \">\" in text:\n",
    "        try:\n",
    "            num_str = text.split(\">\")[1].replace(\"l\", \"\").strip()\n",
    "            threshold = float(num_str) * 100000\n",
    "            return threshold\n",
    "        except:\n",
    "            return 0\n",
    "    else:\n",
    "        return 0\n",
    "\n",
    "# Parse thresholds\n",
    "dfinal['collateral_threshold'] = dfinal['Collateral'].apply(parse_collateral)\n",
    "\n",
    "# If collateral_threshold = 0 → no collateral required\n",
    "# If =1 (from tangible collateral) → always required\n",
    "# Else → check against loan amount\n",
    "dfinal['Collateral_Required'] = np.where(\n",
    "    dfinal['collateral_threshold'].eq(1), 1,    \n",
    "    np.where(dfinal['loan_amt'] > dfinal['collateral_threshold'], 1, 0)\n",
    ")\n",
    "\n",
    "# 3. Collateral OK = requirement satisfied\n",
    "dfinal['Collateral_OK'] = np.where(\n",
    "    (dfinal['Collateral_Required'] == 1) & (dfinal['collateral_available'] == 1), 1,\n",
    "    np.where(dfinal['Collateral_Required'] == 0, 1, 0)\n",
    ")\n",
    "\n",
    "# Drop helper col if not needed\n",
    "#dfinal.drop(columns=['collateral_threshold','Collateral'], inplace=True)\n",
    "#dfinal = dfinal.drop(columns=['Unnamed: 0'])  # Then drop the middle unnamed column\n",
    "pd.set_option('display.max_columns', None)     # Show all columns\n",
    "pd.set_option('display.width', 200)            # Adjust width to fit your terminal\n",
    "pd.set_option('display.max_colwidth', None)    # Show full column content\n",
    "\n",
    "# Print top 10 rows neatly\n",
    "print(dfinal.head(10).to_string())"
   ]
  },
  {
   "cell_type": "code",
   "execution_count": 168,
   "id": "c10f4c91",
   "metadata": {},
   "outputs": [
    {
     "name": "stdout",
     "output_type": "stream",
     "text": [
      "   university_tier  cgpa  family_income   loan_amt  repayment_period  collateral_available Bank_Name                   Product_Name  Interest_Rate  Max_Loan_Domestic  Repayment_Period  \\\n",
      "0                1  7.57         166400  1996000.0                 7                     1       SBI            Scholar Loan Scheme          10.55            1000000                15   \n",
      "1                1  7.57         166400  1996000.0                 7                     1       SBI  Scholar Loan Scheme Variant 1          10.75            1050000                15   \n",
      "2                1  7.57         166400  1996000.0                 7                     1       SBI  Scholar Loan Scheme Variant 2          10.95            1100000                15   \n",
      "3                1  7.57         166400  1996000.0                 7                     1       SBI  Scholar Loan Scheme Variant 3          11.15            1150000                15   \n",
      "4                1  7.57         166400  1996000.0                 7                     1       PNB        Pratibha Education Loan          10.80            1000000                15   \n",
      "\n",
      "   Processing_Fee  College_Tier_Eligibility  Collateral_Required  Collateral_OK  \n",
      "0            5000                         1                    1              1  \n",
      "1               0                         1                    1              1  \n",
      "2            5000                         1                    1              1  \n",
      "3               0                         1                    1              1  \n",
      "4               0                         1                    1              1  \n"
     ]
    }
   ],
   "source": [
    "dfinal = dfinal.iloc[:, 1:]\n",
    "\n",
    "print(dfinal.head())"
   ]
  },
  {
   "cell_type": "code",
   "execution_count": 169,
   "id": "1d80428e",
   "metadata": {},
   "outputs": [],
   "source": [
    "\n",
    "from math import exp\n",
    "\n",
    "# ---------- hyperparameters (tweak for your domain) ----------\n",
    "# weights for the soft-feature aggregate (sum to 1)\n",
    "WEIGHTS = {\n",
    "    \"amount_margin\": 0.30,   # how comfortably requested amount is within max\n",
    "    \"income_dti\":   0.25,    # family income vs EMI (lower DTI => higher score)\n",
    "    \"credit_score\": 0.15,\n",
    "    \"cgpa\":         0.15,\n",
    "    \"repayment_fit\":0.05,    # student chosen tenure vs product max tenure\n",
    "    \"interest\":     0.10     # lower interest is better\n",
    "}\n",
    "\n",
    "# mapping/thresholds\n",
    "MIN_GPA = 6.0         # lower bound of GPA scale\n",
    "MAX_GPA = 10.0\n",
    "CREDIT_MIN = 300      # typical credit score min\n",
    "CREDIT_MAX = 900      # typical maximum for normalization\n",
    "DTI_THRESHOLD = 0.5   # debt-to-income ratio above which probability should be very low\n",
    "EMI_ROUND = 1e-9\n",
    "\n",
    "# sigmoid mapping params (controls steepness and midpoint)\n",
    "SIGMOID_ALPHA = 7.0\n",
    "SIGMOID_TAU   = 0.5\n",
    "\n",
    "# small random noise range added to final prob (optional)\n",
    "RANDOM_NOISE = 0.03\n",
    "\n",
    "# ---------- helper functions ----------\n",
    "def sigmoid(x):\n",
    "    return 1.0 / (1.0 + exp(-x))\n",
    "\n",
    "def clip01(x):\n",
    "    return max(0.0, min(1.0, x))\n",
    "\n",
    "def compute_emi(loan_amount, annual_rate_pct, tenure_years):\n",
    "    \"\"\"Standard EMI formula. tenure_years may be 0 or tiny in some rows — guard against that.\"\"\"\n",
    "    n = max(1, int(round(tenure_years * 12)))  # months\n",
    "    r = max(0.0, annual_rate_pct / 100.0 / 12.0)  # monthly rate\n",
    "    if r <= 0:\n",
    "        return loan_amount / n\n",
    "    # EMI formula\n",
    "    num = loan_amount * r * (1 + r) ** n\n",
    "    den = (1 + r) ** n - 1\n",
    "    if abs(den) < EMI_ROUND:\n",
    "        return loan_amount / n\n",
    "    return num / den\n",
    "\n",
    "# ---------- main approval probability function ----------\n",
    "def approval_probability_row(row, weights=WEIGHTS):\n",
    "    # --- HARD constraints (absolute blockers) ---\n",
    "    # 1) requested loan exceeds product maximum\n",
    "    try:\n",
    "        requested = float(row['loan_amt'])\n",
    "        max_dom = float(row.get('Max_Loan_Domestic', np.nan))\n",
    "    except Exception:\n",
    "        return 0.0\n",
    "\n",
    "    if np.isnan(max_dom):\n",
    "        # If product has no max info, don't block — treat as soft\n",
    "        pass\n",
    "    else:\n",
    "        if requested > max_dom:\n",
    "            return 0.0   # HARD BLOCK\n",
    "\n",
    "    # 2) collateral required by product but student doesn't have it -> block\n",
    "    # assume Collateral_Required is binary (1 yes, 0 no) or string; Collateral_OK computed already\n",
    "    if ('Collateral_Required' in row) and ('Collateral_OK' in row):\n",
    "        # Use Collateral_OK if available: 0 => student cannot satisfy collateral requirement\n",
    "        if int(row['Collateral_Required']) == 1 and int(row['Collateral_OK']) == 0:\n",
    "            return 0.0\n",
    "    else:\n",
    "        # fallback: if collateral_required and collateral_available information present:\n",
    "        if row.get('Collateral_Required') in [1, '1', True] and row.get('collateral_available') in [0, '0', False, 'No']:\n",
    "            return 0.0\n",
    "\n",
    "    # --- SOFT SCORES (each in [0,1]) ---\n",
    "    scores = {}\n",
    "\n",
    "    # A) Amount margin: how close requested is to max (higher is better)\n",
    "    if max_dom and max_dom > 0:\n",
    "        amount_margin = (max_dom - requested) / max_dom  # 1.0 if requested=0, 0.0 if requested==max\n",
    "        scores['amount_margin'] = clip01(amount_margin)\n",
    "    else:\n",
    "        scores['amount_margin'] = 0.5  # unknown -> neutral\n",
    "\n",
    "    # B) Debt-to-income (DTI) / income score: lower DTI -> better\n",
    "    family_income = float(row.get('family_income', 0.0))\n",
    "    monthly_income = family_income / 12.0 if family_income > 0 else 0.0\n",
    "\n",
    "    # use student's chosen repayment_period if present, else product repayment period\n",
    "    tenure_years_student = float(row.get('repayment_period', np.nan))\n",
    "    if np.isnan(tenure_years_student) or tenure_years_student <= 0:\n",
    "        tenure_years_student = float(row.get('Repayment_Period', 10))  # fallback\n",
    "\n",
    "    emi = compute_emi(requested, float(row.get('Interest_Rate', 12.0)), tenure_years_student)\n",
    "    dti = emi / (monthly_income + 1e-9) if monthly_income > 0 else 1.0  # if no income, dti huge\n",
    "\n",
    "    # convert dti to score: 1 when dti=0, 0 when dti >= DTI_THRESHOLD*2\n",
    "    # smoother mapping: score = clip(1 - dti / DTI_THRESHOLD, 0, 1)\n",
    "    income_score = 1.0 - (dti / DTI_THRESHOLD)\n",
    "    scores['income_dti'] = clip01(income_score)\n",
    "\n",
    "    # C) Credit score normalized\n",
    "    cs = row.get('credit_score', None)\n",
    "    if cs is None or (isinstance(cs, float) and np.isnan(cs)):\n",
    "        scores['credit_score'] = 0.5\n",
    "    else:\n",
    "        try:\n",
    "            cs_val = float(cs)\n",
    "            scores['credit_score'] = clip01((cs_val - CREDIT_MIN) / (CREDIT_MAX - CREDIT_MIN))\n",
    "        except:\n",
    "            scores['credit_score'] = 0.5\n",
    "\n",
    "    # D) CGPA normalized (scale 6..10)\n",
    "    cgpa = row.get('cgpa', None)\n",
    "    if cgpa is None or (isinstance(cgpa, float) and np.isnan(cgpa)):\n",
    "        scores['cgpa'] = 0.5\n",
    "    else:\n",
    "        try:\n",
    "            g = float(cgpa)\n",
    "            scores['cgpa'] = clip01((g - MIN_GPA) / (MAX_GPA - MIN_GPA))\n",
    "        except:\n",
    "            scores['cgpa'] = 0.5\n",
    "\n",
    "    # E) Repayment fit: if student's chosen tenure <= product max tenure -> good\n",
    "    # product tenure in years may be numeric in 'Repayment_Period' col\n",
    "    prod_tenure = row.get('Repayment_Period', None)\n",
    "    try:\n",
    "        prod_tenure_val = float(prod_tenure)\n",
    "    except:\n",
    "        # if product tenure is string like \"15 years\", extract number\n",
    "        try:\n",
    "            prod_tenure_val = float(str(prod_tenure).split()[0])\n",
    "        except:\n",
    "            prod_tenure_val = tenure_years_student  # fallback to student tenure\n",
    "\n",
    "    if tenure_years_student <= prod_tenure_val:\n",
    "        scores['repayment_fit'] = 1.0\n",
    "    else:\n",
    "        # if student asks longer than product allows, penalize proportionally\n",
    "        scores['repayment_fit'] = clip01(prod_tenure_val / tenure_years_student)\n",
    "\n",
    "    # F) Interest effect: lower interest gives slightly higher score\n",
    "    try:\n",
    "        interest = float(row.get('Interest_Rate', 12.0))\n",
    "        # map interest 5% -> score 1.0 , 20% -> score 0.0 linearly\n",
    "        scores['interest'] = clip01((20.0 - interest) / 15.0)\n",
    "    except:\n",
    "        scores['interest'] = 0.5\n",
    "\n",
    "    # --- Aggregate weighted score (S in [0,1]) ---\n",
    "    S = 0.0\n",
    "    for k,w in weights.items():\n",
    "        S += w * scores.get(k, 0.5)  # default neutral 0.5 if missing\n",
    "\n",
    "    S = clip01(S)\n",
    "\n",
    "    # --- Map aggregate S to probability via sigmoid to make middle ranges more discriminative ---\n",
    "    P = sigmoid(SIGMOID_ALPHA * (S - SIGMOID_TAU))\n",
    "\n",
    "    # add a tiny bit of noise if desired\n",
    "    P = P + np.random.uniform(-RANDOM_NOISE, RANDOM_NOISE)\n",
    "    P = clip01(P)\n",
    "\n",
    "    # Final sanity: if any soft checks indicate impossible (already handled by hard), we kept it\n",
    "    return P\n",
    "\n",
    "# ---------- Usage ----------\n",
    "# df_combined is your dataframe where each row is a (student, product) pair\n",
    "# Example:\n",
    "# df_combined['approval_probability'] = df_combined.apply(approval_probability_row, axis=1)\n"
   ]
  },
  {
   "cell_type": "code",
   "execution_count": 172,
   "id": "c3a8854f",
   "metadata": {},
   "outputs": [
    {
     "name": "stdout",
     "output_type": "stream",
     "text": [
      "   university_tier  cgpa  family_income   loan_amt  repayment_period  collateral_available Bank_Name                   Product_Name  Interest_Rate  Max_Loan_Domestic  Repayment_Period  \\\n",
      "0                1  7.57         166400  1996000.0                 7                     1       SBI            Scholar Loan Scheme          10.55            1000000                15   \n",
      "1                1  7.57         166400  1996000.0                 7                     1       SBI  Scholar Loan Scheme Variant 1          10.75            1050000                15   \n",
      "2                1  7.57         166400  1996000.0                 7                     1       SBI  Scholar Loan Scheme Variant 2          10.95            1100000                15   \n",
      "3                1  7.57         166400  1996000.0                 7                     1       SBI  Scholar Loan Scheme Variant 3          11.15            1150000                15   \n",
      "4                1  7.57         166400  1996000.0                 7                     1       PNB        Pratibha Education Loan          10.80            1000000                15   \n",
      "\n",
      "   Processing_Fee  College_Tier_Eligibility  Collateral_Required  Collateral_OK  approval_probability  \n",
      "0            5000                         1                    1              1                   0.0  \n",
      "1               0                         1                    1              1                   0.0  \n",
      "2            5000                         1                    1              1                   0.0  \n",
      "3               0                         1                    1              1                   0.0  \n",
      "4               0                         1                    1              1                   0.0  \n"
     ]
    }
   ],
   "source": [
    "dfinal['approval_probability'] = dfinal.apply(approval_probability_row, axis=1)\n",
    "print(dfinal.head())"
   ]
  },
  {
   "cell_type": "code",
   "execution_count": 174,
   "id": "06726f00",
   "metadata": {},
   "outputs": [
    {
     "name": "stdout",
     "output_type": "stream",
     "text": [
      "        university_tier  cgpa  family_income  loan_amt   repayment_period  collateral_available Bank_Name       Product_Name                         Interest_Rate  Max_Loan_Domestic  Repayment_Period  Processing_Fee  College_Tier_Eligibility  Collateral_Required  Collateral_OK  approval_probability\n",
      "577985  1                8.08  158100         1703000.0  7                 0                        Canara Bank              Vidya Turant Variant 1  10.10          1050000            15                   0            2                         1                    0              0.000000            \n",
      "253032  1                7.06  161400         1355000.0  6                 0                          IDBI Bank                      Education Loan  11.00          1500000            10                   0            1                         1                    0              0.000000            \n",
      "602136  3                6.34  158300          350000.0  4                 0                         ICICI Bank                     Global Edu Loan  11.25          2000000            10                   0            1                         0                    1              0.378576            \n",
      "333502  1                8.10  165100         1078000.0  6                 0                     Bank of Baroda            Baroda Scholar Variant 2  10.25          1100000            15                   0            2                         1                    0              0.000000            \n",
      "291618  1                8.48  164300         1355000.0  5                 0                         ICICI Bank           Global Edu Loan Variant 2  11.65          2100000            10                   0            1                         1                    0              0.000000            \n",
      "555195  1                7.77  178100         1078000.0  6                 0                          IDBI Bank            Education Loan Variant 3  11.60          1650000            10                   0            1                         1                    0              0.000000            \n",
      "480456  1                6.67  167200         1615000.0  6                 0                         ICICI Bank                     Global Edu Loan  11.25          2000000            10                   0            1                         1                    0              0.000000            \n",
      "456897  1                6.58  164800         1355000.0  6                 0                         ICICI Bank           Global Edu Loan Variant 1  11.45          2050000            10                   0            1                         1                    0              0.000000            \n",
      "253142  1                6.33  161400          481000.0  4                 1                     Bank of Baroda            Baroda Scholar Variant 2  10.25          1100000            15                   0            2                         0                    1              0.271850            \n",
      "393371  1                8.70  159300         1233000.0  5                 0                          Axis Bank  Education Advantage Loan Variant 3  16.10          1150000            15                   0            3                         1                    0              0.000000            \n",
      "644726  1                6.35  155300          663000.0  4                 0                                PNB   Pratibha Education Loan Variant 2  11.20          1100000            15                   0            1                         0                    1              0.194748            \n",
      "114502  2                7.28  168000          481000.0  4                 1                     Bank of Baroda            Baroda Scholar Variant 2  10.25          1100000            15                   0            2                         0                    1              0.312947            \n",
      "340194  2                8.16  163300         1097000.0  5                 1                          IDBI Bank            Education Loan Variant 2  11.40          1600000            10                   0            1                         1                    1              0.240649            \n",
      "646763  1                6.89  158600          524000.0  4                 1                                SBI       Scholar Loan Scheme Variant 3  11.15          1150000            15                   0            1                         0                    1              0.302313            \n",
      "167169  3                6.53  160500          397000.0  3                 0                          Axis Bank  Education Advantage Loan Variant 1  15.70          1050000            15                   0            3                         1                    0              0.000000            \n",
      "100623  1                7.48  154100          481000.0  4                 0                     Bank of Baroda            Baroda Scholar Variant 3  10.45          1150000            15                   0            2                         0                    1              0.331590            \n",
      "100932  1                8.73  154400          481000.0  4                 0                               HDFC                      Education Plus  12.10          1000000            15                   0            3                         1                    0              0.000000            \n",
      "274634  3                6.55  170400          892000.0  5                 0                          IDBI Bank            Education Loan Variant 2  11.40          1600000            10                   0            1                         1                    0              0.000000            \n",
      "483539  3                7.93  172700         1141000.0  5                 0                         ICICI Bank           Global Edu Loan Variant 3  11.85          2150000            10                   0            1                         1                    0              0.000000            \n",
      "134673  3                6.60  161500         1454000.0  5                 0                          IDBI Bank            Education Loan Variant 1  11.20          1550000            10                   0            1                         1                    0              0.000000            \n",
      "101976  3                7.03  157500          481000.0  3                 0                         ICICI Bank                     Global Edu Loan  11.25          2000000            10                   0            1                         0                    1              0.427593            \n",
      "573557  1                7.70  180600         1526000.0  7                 1                        Indian Bank                Vidya Loan Variant 1  10.20          1050000            15                   0            3                         1                    1              0.000000            \n",
      "33861   2                6.81  185200         1861000.0  7                 1                     Bank of Baroda            Baroda Scholar Variant 1  10.05          1050000            15                   0            2                         1                    1              0.000000            \n",
      "431708  1                7.36  160900         1355000.0  6                 0                         Union Bank                Union Education Loan  10.20          1000000            15                   0            1                         1                    0              0.000000            \n",
      "41837   1                7.35  173500         1808000.0  7                 1                        Indian Bank                Vidya Loan Variant 1  10.20          1050000            15                   0            3                         1                    1              0.000000            \n",
      "155876  2                6.72  160600          596000.0  4                 0                        Indian Bank                          Vidya Loan  10.00          1000000            15                   0            3                         1                    0              0.000000            \n",
      "164690  2                6.26  160600          378000.0  4                 1                          Axis Bank  Education Advantage Loan Variant 2  15.90          1100000            15                6000            3                         1                    1              0.284902            \n",
      "265547  2                7.64  164500          892000.0  5                 0                        Canara Bank              Vidya Turant Variant 3  10.50          1150000            15                   0            3                         1                    0              0.000000            \n",
      "158999  2                7.36  163700          596000.0  5                 0                        Indian Bank                Vidya Loan Variant 3  10.60          1150000            15                   0            3                         1                    0              0.000000            \n",
      "130022  1                8.60  171900          536000.0  4                 1                     Bank of Baroda            Baroda Scholar Variant 2  10.25          1100000            15                   0            2                         0                    1              0.396077            \n",
      "79667   1                6.84  161400          397000.0  4                 0                        Canara Bank              Vidya Turant Variant 3  10.50          1150000            15                   0            3                         1                    0              0.000000            \n",
      "154878  3                8.38  159200          596000.0  5                 0                        Indian Bank                Vidya Loan Variant 2  10.40          1100000            15                   0            3                         1                    0              0.000000            \n",
      "570650  2                7.62  180000         1895000.0  6                 0                          Axis Bank  Education Advantage Loan Variant 2  15.90          1100000            15                6000            3                         1                    0              0.000000            \n",
      "243928  3                8.18  172200          845000.0  4                 0                          Axis Bank            Education Advantage Loan  15.50          1000000            15                5000            3                         1                    0              0.000000            \n",
      "385318  2                7.54  161100         1188000.0  6                 0                        Indian Bank                Vidya Loan Variant 2  10.40          1100000            15                   0            3                         1                    0              0.000000            \n",
      "380368  3                7.74  167300         1271000.0  5                 0                          Axis Bank            Education Advantage Loan  15.50          1000000            15                5000            3                         1                    0              0.000000            \n",
      "548319  2                7.30  173900         1703000.0  7                 1                        Indian Bank                Vidya Loan Variant 3  10.60          1150000            15                   0            3                         1                    1              0.000000            \n",
      "629277  1                6.59  164900         1746000.0  7                 0                        Indian Bank                Vidya Loan Variant 1  10.20          1050000            15                   0            3                         1                    0              0.000000            \n",
      "669753  2                8.10  171400         1526000.0  7                 0                          IDBI Bank            Education Loan Variant 1  11.20          1550000            10                   0            1                         1                    0              0.000000            \n",
      "313922  2                7.39  165200          743000.0  5                 0                                SBI       Scholar Loan Scheme Variant 2  10.95          1100000            15                5000            1                         0                    1              0.259167            \n",
      "610650  2                6.86  164900         1703000.0  7                 0                          Axis Bank  Education Advantage Loan Variant 2  15.90          1100000            15                6000            3                         1                    0              0.000000            \n",
      "537571  1                7.08  176500         1141000.0  6                 0                          Axis Bank  Education Advantage Loan Variant 3  16.10          1150000            15                   0            3                         1                    0              0.000000            \n",
      "623697  1                6.70  174200         1703000.0  7                 1                         ICICI Bank           Global Edu Loan Variant 1  11.45          2050000            10                   0            1                         1                    1              0.133356            \n",
      "289753  3                6.06  185200         1015000.0  6                 0                          IDBI Bank            Education Loan Variant 1  11.20          1550000            10                   0            1                         1                    0              0.000000            \n",
      "447228  3                7.56  170400         1355000.0  5                 0                         Union Bank                Union Education Loan  10.20          1000000            15                   0            1                         1                    0              0.000000            \n",
      "87034   3                7.55  157700         1615000.0  7                 0                          IDBI Bank            Education Loan Variant 2  11.40          1600000            10                   0            1                         1                    0              0.000000            \n",
      "458858  2                6.87  171400         1633000.0  7                 0                         ICICI Bank           Global Edu Loan Variant 2  11.65          2100000            10                   0            1                         1                    0              0.000000            \n",
      "462570  3                6.83  171400          481000.0  4                 0                          Axis Bank  Education Advantage Loan Variant 2  15.90          1100000            15                6000            3                         1                    0              0.000000            \n",
      "37407   1                6.64  172300         1824000.0  7                 0                                PNB   Pratibha Education Loan Variant 3  11.40          1150000            15                   0            1                         1                    0              0.000000            \n",
      "10550   3                8.22  203800         1956000.0  7                 0                         Union Bank      Union Education Loan Variant 2  10.60          1100000            15                   0            1                         1                    0              0.000000            \n",
      "135659  3                7.13  164000         1454000.0  6                 0                         ICICI Bank           Global Edu Loan Variant 3  11.85          2150000            10                   0            1                         1                    0              0.000000            \n",
      "60669   1                7.57  152800          328000.0  3                 0                         Union Bank      Union Education Loan Variant 1  10.40          1050000            15                   0            1                         1                    0              0.000000            \n",
      "274810  1                7.87  170800          892000.0  4                 1                          Axis Bank  Education Advantage Loan Variant 2  15.90          1100000            15                6000            3                         1                    1              0.166416            \n",
      "413723  2                8.54  169000          428000.0  3                 0                                SBI       Scholar Loan Scheme Variant 3  11.15          1150000            15                   0            1                         0                    1              0.447966            \n",
      "4808    2                6.97  152300          663000.0  4                 0                          Axis Bank            Education Advantage Loan  15.50          1000000            15                5000            3                         1                    0              0.000000            \n",
      "555402  1                8.72  174600         1921000.0  6                 1                                SBI       Scholar Loan Scheme Variant 2  10.95          1100000            15                5000            1                         1                    1              0.000000            \n",
      "202762  1                7.28  161600         1762000.0  7                 0                                SBI       Scholar Loan Scheme Variant 2  10.95          1100000            15                5000            1                         1                    0              0.000000            \n",
      "646245  2                8.30  170500         1526000.0  7                 0                                PNB   Pratibha Education Loan Variant 1  11.00          1050000            15                   0            1                         1                    0              0.000000            \n",
      "169929  1                7.50  163300          650000.0  5                 0                          Axis Bank  Education Advantage Loan Variant 1  15.70          1050000            15                   0            3                         1                    0              0.000000            \n",
      "385279  3                8.23  167700          650000.0  4                 0                        Indian Bank                Vidya Loan Variant 3  10.60          1150000            15                   0            3                         1                    0              0.000000            \n",
      "345077  2                7.67  156900         1141000.0  6                 1                        Indian Bank                Vidya Loan Variant 1  10.20          1050000            15                   0            3                         1                    1              0.000000            \n",
      "215858  1                6.40  162000          743000.0  4                 1                         ICICI Bank           Global Edu Loan Variant 2  11.65          2100000            10                   0            1                         0                    1              0.305344            \n",
      "494018  2                8.29  160200         1526000.0  6                 0                         ICICI Bank           Global Edu Loan Variant 2  11.65          2100000            10                   0            1                         1                    0              0.000000            \n",
      "312076  2                7.86  165200         1827000.0  6                 1                        Indian Bank                          Vidya Loan  10.00          1000000            15                   0            3                         1                    1              0.000000            \n",
      "144581  2                6.60  159900         1214000.0  6                 0                     Bank of Baroda            Baroda Scholar Variant 1  10.05          1050000            15                   0            2                         1                    0              0.000000            \n",
      "542863  3                7.65  169800         1586000.0  7                 0                     Bank of Baroda            Baroda Scholar Variant 3  10.45          1150000            15                   0            2                         1                    0              0.000000            \n",
      "100350  3                8.40  153700          481000.0  3                 0                         Union Bank      Union Education Loan Variant 2  10.60          1100000            15                   0            1                         1                    0              0.000000            \n",
      "243628  3                7.78  159500          843000.0  5                 1                         Union Bank                Union Education Loan  10.20          1000000            15                   0            1                         1                    1              0.179082            \n",
      "39509   3                7.94  163600         1808000.0  6                 0                         Union Bank      Union Education Loan Variant 1  10.40          1050000            15                   0            1                         1                    0              0.000000            \n",
      "400877  1                7.86  168300          946000.0  4                 1                        Indian Bank                Vidya Loan Variant 1  10.20          1050000            15                   0            3                         1                    1              0.166780            \n",
      "325824  3                6.83  172900         1060000.0  6                 0                        Canara Bank                        Vidya Turant   9.90          1000000            15                   0            1                         1                    0              0.000000            \n",
      "177417  2                6.40  161000          675000.0  5                 0                         ICICI Bank           Global Edu Loan Variant 1  11.45          2050000            10                   0            1                         0                    1              0.350756            \n",
      "626307  1                7.84  175900         1703000.0  7                 0                        Canara Bank              Vidya Turant Variant 3  10.50          1150000            15                   0            3                         1                    0              0.000000            \n",
      "525223  2                6.96  175600         1355000.0  6                 0                     Bank of Baroda            Baroda Scholar Variant 3  10.45          1150000            15                   0            2                         1                    0              0.000000            \n",
      "377009  3                6.72  167300         1233000.0  5                 0                          Axis Bank  Education Advantage Loan Variant 1  15.70          1050000            15                   0            3                         1                    0              0.000000            \n",
      "471482  3                7.56  171700         1355000.0  6                 1                                SBI       Scholar Loan Scheme Variant 2  10.95          1100000            15                5000            1                         1                    1              0.000000            \n",
      "617624  1                7.49  189900         1762000.0  7                 1                        Canara Bank                        Vidya Turant   9.90          1000000            15                   0            1                         1                    1              0.000000            \n",
      "385081  1                7.22  167700         1703000.0  6                 0                                SBI       Scholar Loan Scheme Variant 1  10.75          1050000            15                   0            1                         1                    0              0.000000            \n",
      "26210   3                8.35  154400         1015000.0  6                 0                          Axis Bank  Education Advantage Loan Variant 2  15.90          1100000            15                6000            3                         1                    0              0.000000            \n",
      "179641  1                7.26  164200          675000.0  4                 1                                SBI       Scholar Loan Scheme Variant 1  10.75          1050000            15                   0            1                         0                    1              0.226342            \n",
      "28104   2                7.65  168900         1861000.0  7                 0                        Canara Bank                        Vidya Turant   9.90          1000000            15                   0            1                         1                    0              0.000000            \n",
      "423958  3                6.75  169500         1454000.0  6                 0                        Indian Bank                Vidya Loan Variant 2  10.40          1100000            15                   0            3                         1                    0              0.000000            \n",
      "597687  3                6.97  176600         1355000.0  5                 1                                PNB   Pratibha Education Loan Variant 3  11.40          1150000            15                   0            1                         1                    1              0.000000            \n",
      "190824  2                7.17  158200          743000.0  5                 0                        Canara Bank                        Vidya Turant   9.90          1000000            15                   0            1                         1                    0              0.000000            \n",
      "204129  1                8.53  161800         1015000.0  5                 1                          Axis Bank  Education Advantage Loan Variant 1  15.70          1050000            15                   0            3                         1                    1              0.184215            \n",
      "228516  2                7.69  157400          803000.0  5                 1                        Indian Bank                          Vidya Loan  10.00          1000000            15                   0            3                         1                    1              0.223737            \n",
      "607137  1                7.29  186900         1956000.0  6                 0                         ICICI Bank           Global Edu Loan Variant 1  11.45          2050000            10                   0            1                         1                    0              0.000000            \n",
      "554042  2                7.97  178200         1256000.0  5                 0                                SBI       Scholar Loan Scheme Variant 2  10.95          1100000            15                5000            1                         1                    0              0.000000            \n",
      "494028  2                8.29  160200         1526000.0  6                 0                         Union Bank                Union Education Loan  10.20          1000000            15                   0            1                         1                    0              0.000000            \n",
      "83880   2                8.04  156300          410000.0  3                 0                                SBI                 Scholar Loan Scheme  10.55          1000000            15                5000            1                         0                    1              0.399140            \n",
      "209501  3                7.95  154800         1214000.0  6                 0                     Bank of Baroda            Baroda Scholar Variant 1  10.05          1050000            15                   0            2                         1                    0              0.000000            \n",
      "621255  2                6.32  192500         1526000.0  7                 1                               HDFC            Education Plus Variant 3  12.70          1150000            15                   0            3                         1                    1              0.000000            \n",
      "101325  2                7.06  155200          481000.0  3                 1                                PNB   Pratibha Education Loan Variant 1  11.00          1050000            15                   0            1                         0                    1              0.286667            \n",
      "591958  1                7.17  162100         1703000.0  6                 0                        Indian Bank                Vidya Loan Variant 2  10.40          1100000            15                   0            3                         1                    0              0.000000            \n",
      "456224  3                7.65  171100         1141000.0  5                 0                        Canara Bank                        Vidya Turant   9.90          1000000            15                   0            1                         1                    0              0.000000            \n",
      "152004  2                7.44  160000          308000.0  4                 0                                PNB             Pratibha Education Loan  10.80          1000000            15                   0            1                         0                    1              0.395205            \n",
      "364881  3                7.88  158000          799000.0  4                 1                                SBI       Scholar Loan Scheme Variant 1  10.75          1050000            15                   0            1                         1                    1              0.222460            \n",
      "54912   2                7.52  159000          308000.0  4                 0                          IDBI Bank                      Education Loan  11.00          1500000            10                   0            1                         1                    0              0.000000            \n",
      "662328  1                7.76  167100         1703000.0  6                 0                          Axis Bank            Education Advantage Loan  15.50          1000000            15                5000            3                         1                    0              0.000000            \n",
      "327658  2                6.63  154600         1078000.0  6                 0                         ICICI Bank           Global Edu Loan Variant 2  11.65          2100000            10                   0            1                         1                    0              0.000000            \n"
     ]
    }
   ],
   "source": [
    "\n",
    "pd.set_option('display.max_rows', 100)\n",
    "pd.set_option('display.max_columns', None)\n",
    "pd.set_option('display.width', 1000)  # Increase width to fit more columns\n",
    "pd.set_option('display.colheader_justify', 'left')  # Optional: align headers\n",
    "\n",
    "# Sample 100 random rows\n",
    "sampled_df = dfinal.sample(n=100, random_state=42)\n",
    "\n",
    "# Print the sampled DataFrame\n",
    "print(sampled_df)\n",
    "\n"
   ]
  },
  {
   "cell_type": "code",
   "execution_count": 177,
   "id": "0fa83fda",
   "metadata": {},
   "outputs": [
    {
     "name": "stdout",
     "output_type": "stream",
     "text": [
      "503433\n"
     ]
    }
   ],
   "source": [
    "print((dfinal['approval_probability'] == 0).sum())\n",
    "dfinal.to_csv('final2.csv')"
   ]
  }
 ],
 "metadata": {
  "kernelspec": {
   "display_name": "env",
   "language": "python",
   "name": "python3"
  },
  "language_info": {
   "codemirror_mode": {
    "name": "ipython",
    "version": 3
   },
   "file_extension": ".py",
   "mimetype": "text/x-python",
   "name": "python",
   "nbconvert_exporter": "python",
   "pygments_lexer": "ipython3",
   "version": "3.12.6"
  }
 },
 "nbformat": 4,
 "nbformat_minor": 5
}
